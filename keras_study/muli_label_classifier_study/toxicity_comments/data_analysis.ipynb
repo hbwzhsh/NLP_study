{
 "cells": [
  {
   "cell_type": "markdown",
   "metadata": {
    "colab_type": "text",
    "id": "ICq16genXAvj"
   },
   "source": [
    "# 数据分析"
   ]
  },
  {
   "cell_type": "markdown",
   "metadata": {
    "colab_type": "text",
    "id": "yrlGA3yaXmws"
   },
   "source": [
    "## 连接 colab drive"
   ]
  },
  {
   "cell_type": "code",
   "execution_count": 0,
   "metadata": {
    "colab": {
     "base_uri": "https://localhost:8080/",
     "height": 34
    },
    "colab_type": "code",
    "executionInfo": {
     "elapsed": 1675,
     "status": "ok",
     "timestamp": 1583928964910,
     "user": {
      "displayName": "KM yang",
      "photoUrl": "https://lh3.googleusercontent.com/a-/AOh14Gg0AEgDbjAGDaWXlCGl-v2bX3nCoKTmvohCJMAE=s64",
      "userId": "15731520987734215824"
     },
     "user_tz": -480
    },
    "id": "Mcq0l2TKXojF",
    "outputId": "d440cfd5-ed01-45fe-eaca-e4ab506ac388"
   },
   "outputs": [
    {
     "name": "stdout",
     "output_type": "stream",
     "text": [
      "Drive already mounted at /content/drive/; to attempt to forcibly remount, call drive.mount(\"/content/drive/\", force_remount=True).\n"
     ]
    }
   ],
   "source": [
    "from google.colab import drive\n",
    "drive.mount('/content/drive/')"
   ]
  },
  {
   "cell_type": "code",
   "execution_count": 0,
   "metadata": {
    "colab": {
     "base_uri": "https://localhost:8080/",
     "height": 34
    },
    "colab_type": "code",
    "executionInfo": {
     "elapsed": 1651,
     "status": "ok",
     "timestamp": 1583928968878,
     "user": {
      "displayName": "KM yang",
      "photoUrl": "https://lh3.googleusercontent.com/a-/AOh14Gg0AEgDbjAGDaWXlCGl-v2bX3nCoKTmvohCJMAE=s64",
      "userId": "15731520987734215824"
     },
     "user_tz": -480
    },
    "id": "TnLgTlKsXqi8",
    "outputId": "acfd3e67-c226-4408-8d2d-38eef827211a"
   },
   "outputs": [
    {
     "name": "stdout",
     "output_type": "stream",
     "text": [
      "/content/drive/My Drive/NLP_study/classifier_study\n"
     ]
    }
   ],
   "source": [
    "cd /content/drive/My Drive/NLP_study/classifier_study/"
   ]
  },
  {
   "cell_type": "markdown",
   "metadata": {
    "colab_type": "text",
    "id": "kej36GcjXJIT"
   },
   "source": [
    "## 加载相关库"
   ]
  },
  {
   "cell_type": "code",
   "execution_count": 0,
   "metadata": {
    "colab": {
     "base_uri": "https://localhost:8080/",
     "height": 102
    },
    "colab_type": "code",
    "executionInfo": {
     "elapsed": 1730,
     "status": "ok",
     "timestamp": 1583928972853,
     "user": {
      "displayName": "KM yang",
      "photoUrl": "https://lh3.googleusercontent.com/a-/AOh14Gg0AEgDbjAGDaWXlCGl-v2bX3nCoKTmvohCJMAE=s64",
      "userId": "15731520987734215824"
     },
     "user_tz": -480
    },
    "id": "lVYHr4u-XRuy",
    "outputId": "963809e2-dd54-4c31-aa0c-67e02b9b556c"
   },
   "outputs": [
    {
     "name": "stdout",
     "output_type": "stream",
     "text": [
      "[nltk_data] Downloading package punkt to /root/nltk_data...\n",
      "[nltk_data]   Package punkt is already up-to-date!\n",
      "[nltk_data] Downloading package stopwords to /root/nltk_data...\n",
      "[nltk_data]   Package stopwords is already up-to-date!\n"
     ]
    },
    {
     "data": {
      "text/plain": [
       "True"
      ]
     },
     "execution_count": 5,
     "metadata": {
      "tags": []
     },
     "output_type": "execute_result"
    }
   ],
   "source": [
    "import pandas as pd\n",
    "import matplotlib.pyplot as plt\n",
    "import nltk\n",
    "import string\n",
    "from nltk.corpus import stopwords\n",
    "nltk.download('punkt')\n",
    "nltk.download('stopwords')"
   ]
  },
  {
   "cell_type": "markdown",
   "metadata": {},
   "source": [
    "## 全局变量设定"
   ]
  },
  {
   "cell_type": "code",
   "execution_count": null,
   "metadata": {},
   "outputs": [],
   "source": [
    "data_path = \"./data/\"\n",
    "train_data_path = data_path+\"train.csv\"\n",
    "train_clean_all_path = data_path+\"train_clean_all.csv\"\n",
    "train_clean_path = data_path+\"train_clean.csv\""
   ]
  },
  {
   "cell_type": "markdown",
   "metadata": {
    "colab_type": "text",
    "id": "7YzVkzvSXGmS"
   },
   "source": [
    "## 数据加载"
   ]
  },
  {
   "cell_type": "code",
   "execution_count": 0,
   "metadata": {
    "colab": {},
    "colab_type": "code",
    "id": "8DX6hqCrXXg0"
   },
   "outputs": [],
   "source": [
    "train = pd.read_csv(train_data_path)"
   ]
  },
  {
   "cell_type": "markdown",
   "metadata": {
    "colab_type": "text",
    "id": "zsC2Lsj7dYpp"
   },
   "source": [
    "## 对标签进行统计学分析"
   ]
  },
  {
   "cell_type": "markdown",
   "metadata": {
    "colab_type": "text",
    "id": "QorL16hjX7W9"
   },
   "source": [
    "### 统计学分析"
   ]
  },
  {
   "cell_type": "code",
   "execution_count": 0,
   "metadata": {
    "colab": {
     "base_uri": "https://localhost:8080/",
     "height": 297
    },
    "colab_type": "code",
    "executionInfo": {
     "elapsed": 1151,
     "status": "ok",
     "timestamp": 1583926503958,
     "user": {
      "displayName": "KM yang",
      "photoUrl": "https://lh3.googleusercontent.com/a-/AOh14Gg0AEgDbjAGDaWXlCGl-v2bX3nCoKTmvohCJMAE=s64",
      "userId": "15731520987734215824"
     },
     "user_tz": -480
    },
    "id": "H93oN8c-W8Gh",
    "outputId": "b46c36e7-ecd8-4df4-92da-4718c7481c0b"
   },
   "outputs": [
    {
     "data": {
      "text/html": [
       "<div>\n",
       "<style scoped>\n",
       "    .dataframe tbody tr th:only-of-type {\n",
       "        vertical-align: middle;\n",
       "    }\n",
       "\n",
       "    .dataframe tbody tr th {\n",
       "        vertical-align: top;\n",
       "    }\n",
       "\n",
       "    .dataframe thead th {\n",
       "        text-align: right;\n",
       "    }\n",
       "</style>\n",
       "<table border=\"1\" class=\"dataframe\">\n",
       "  <thead>\n",
       "    <tr style=\"text-align: right;\">\n",
       "      <th></th>\n",
       "      <th>toxic</th>\n",
       "      <th>severe_toxic</th>\n",
       "      <th>obscene</th>\n",
       "      <th>threat</th>\n",
       "      <th>insult</th>\n",
       "      <th>identity_hate</th>\n",
       "    </tr>\n",
       "  </thead>\n",
       "  <tbody>\n",
       "    <tr>\n",
       "      <th>count</th>\n",
       "      <td>159571.000000</td>\n",
       "      <td>159571.000000</td>\n",
       "      <td>159571.000000</td>\n",
       "      <td>159571.000000</td>\n",
       "      <td>159571.000000</td>\n",
       "      <td>159571.000000</td>\n",
       "    </tr>\n",
       "    <tr>\n",
       "      <th>mean</th>\n",
       "      <td>0.095844</td>\n",
       "      <td>0.009996</td>\n",
       "      <td>0.052948</td>\n",
       "      <td>0.002996</td>\n",
       "      <td>0.049364</td>\n",
       "      <td>0.008805</td>\n",
       "    </tr>\n",
       "    <tr>\n",
       "      <th>std</th>\n",
       "      <td>0.294379</td>\n",
       "      <td>0.099477</td>\n",
       "      <td>0.223931</td>\n",
       "      <td>0.054650</td>\n",
       "      <td>0.216627</td>\n",
       "      <td>0.093420</td>\n",
       "    </tr>\n",
       "    <tr>\n",
       "      <th>min</th>\n",
       "      <td>0.000000</td>\n",
       "      <td>0.000000</td>\n",
       "      <td>0.000000</td>\n",
       "      <td>0.000000</td>\n",
       "      <td>0.000000</td>\n",
       "      <td>0.000000</td>\n",
       "    </tr>\n",
       "    <tr>\n",
       "      <th>25%</th>\n",
       "      <td>0.000000</td>\n",
       "      <td>0.000000</td>\n",
       "      <td>0.000000</td>\n",
       "      <td>0.000000</td>\n",
       "      <td>0.000000</td>\n",
       "      <td>0.000000</td>\n",
       "    </tr>\n",
       "    <tr>\n",
       "      <th>50%</th>\n",
       "      <td>0.000000</td>\n",
       "      <td>0.000000</td>\n",
       "      <td>0.000000</td>\n",
       "      <td>0.000000</td>\n",
       "      <td>0.000000</td>\n",
       "      <td>0.000000</td>\n",
       "    </tr>\n",
       "    <tr>\n",
       "      <th>75%</th>\n",
       "      <td>0.000000</td>\n",
       "      <td>0.000000</td>\n",
       "      <td>0.000000</td>\n",
       "      <td>0.000000</td>\n",
       "      <td>0.000000</td>\n",
       "      <td>0.000000</td>\n",
       "    </tr>\n",
       "    <tr>\n",
       "      <th>max</th>\n",
       "      <td>1.000000</td>\n",
       "      <td>1.000000</td>\n",
       "      <td>1.000000</td>\n",
       "      <td>1.000000</td>\n",
       "      <td>1.000000</td>\n",
       "      <td>1.000000</td>\n",
       "    </tr>\n",
       "  </tbody>\n",
       "</table>\n",
       "</div>"
      ],
      "text/plain": [
       "               toxic   severe_toxic  ...         insult  identity_hate\n",
       "count  159571.000000  159571.000000  ...  159571.000000  159571.000000\n",
       "mean        0.095844       0.009996  ...       0.049364       0.008805\n",
       "std         0.294379       0.099477  ...       0.216627       0.093420\n",
       "min         0.000000       0.000000  ...       0.000000       0.000000\n",
       "25%         0.000000       0.000000  ...       0.000000       0.000000\n",
       "50%         0.000000       0.000000  ...       0.000000       0.000000\n",
       "75%         0.000000       0.000000  ...       0.000000       0.000000\n",
       "max         1.000000       1.000000  ...       1.000000       1.000000\n",
       "\n",
       "[8 rows x 6 columns]"
      ]
     },
     "execution_count": 8,
     "metadata": {
      "tags": []
     },
     "output_type": "execute_result"
    }
   ],
   "source": [
    "train.describe()"
   ]
  },
  {
   "cell_type": "markdown",
   "metadata": {
    "colab_type": "text",
    "id": "eUrILEroYQrW"
   },
   "source": [
    "### 不同标签数据量分析"
   ]
  },
  {
   "cell_type": "code",
   "execution_count": 0,
   "metadata": {
    "colab": {
     "base_uri": "https://localhost:8080/",
     "height": 443
    },
    "colab_type": "code",
    "executionInfo": {
     "elapsed": 1549,
     "status": "ok",
     "timestamp": 1583927435944,
     "user": {
      "displayName": "KM yang",
      "photoUrl": "https://lh3.googleusercontent.com/a-/AOh14Gg0AEgDbjAGDaWXlCGl-v2bX3nCoKTmvohCJMAE=s64",
      "userId": "15731520987734215824"
     },
     "user_tz": -480
    },
    "id": "6jFFlYmkYWj7",
    "outputId": "ed885e30-9981-4184-b17e-e014e422d107"
   },
   "outputs": [
    {
     "name": "stdout",
     "output_type": "stream",
     "text": [
      "toxic            15294\n",
      "severe_toxic      1595\n",
      "obscene           8449\n",
      "threat             478\n",
      "insult            7877\n",
      "identity_hate     1405\n",
      "dtype: int64\n"
     ]
    },
    {
     "data": {
      "image/png": "[encoded data removed]",
      "text/plain": [
       "<Figure size 432x288 with 1 Axes>"
      ]
     },
     "metadata": {
      "tags": []
     },
     "output_type": "display_data"
    }
   ],
   "source": [
    "label = train.drop(['comment_text','id'],axis=1)\n",
    "label_sum = label.sum()\n",
    "label_sum.plot(kind='bar')\n",
    "print(label_sum)\n",
    "plt.show()"
   ]
  },
  {
   "cell_type": "markdown",
   "metadata": {
    "colab_type": "text",
    "id": "tgS1NJNKcGFf"
   },
   "source": [
    "### 统计每行数据包含的标签数"
   ]
  },
  {
   "cell_type": "code",
   "execution_count": 0,
   "metadata": {
    "colab": {
     "base_uri": "https://localhost:8080/",
     "height": 517
    },
    "colab_type": "code",
    "executionInfo": {
     "elapsed": 1171,
     "status": "ok",
     "timestamp": 1583927584796,
     "user": {
      "displayName": "KM yang",
      "photoUrl": "https://lh3.googleusercontent.com/a-/AOh14Gg0AEgDbjAGDaWXlCGl-v2bX3nCoKTmvohCJMAE=s64",
      "userId": "15731520987734215824"
     },
     "user_tz": -480
    },
    "id": "ctLEOV4JZwhG",
    "outputId": "892b927b-bf3a-4cf2-c2fb-aec20d17ecad"
   },
   "outputs": [
    {
     "name": "stdout",
     "output_type": "stream",
     "text": [
      "0    143346\n",
      "1      6360\n",
      "3      4209\n",
      "2      3480\n",
      "4      1760\n",
      "5       385\n",
      "6        31\n",
      "dtype: int64\n",
      "0.8983211235124177\n",
      "0.03985686622255924\n",
      "0.0218084739708343\n",
      "0.026376973259552173\n",
      "0.011029573042720795\n",
      "0.002412719103095174\n",
      "0.00019427088882065038\n"
     ]
    },
    {
     "data": {
      "image/png": "[encoded data removed]",
      "text/plain": [
       "<Figure size 432x288 with 1 Axes>"
      ]
     },
     "metadata": {
      "tags": []
     },
     "output_type": "display_data"
    }
   ],
   "source": [
    "def sta(value_sum,count):\n",
    "    print(value_sum[0]/len(count))\n",
    "    print(value_sum[1]/len(count))\n",
    "    print(value_sum[2]/len(count))\n",
    "    print(value_sum[3]/len(count))\n",
    "    print(value_sum[4]/len(count))\n",
    "    print(value_sum[5]/len(count))\n",
    "    print(value_sum[6]/len(count))\n",
    "\n",
    "train_counts = label.sum(axis=1).value_counts()\n",
    "print(train_counts)\n",
    "train_counts.plot(kind='bar')\n",
    "sta(train_counts,label)"
   ]
  },
  {
   "cell_type": "markdown",
   "metadata": {
    "colab_type": "text",
    "id": "sAY7FohtcZrO"
   },
   "source": [
    "## 对文本进行统计"
   ]
  },
  {
   "cell_type": "code",
   "execution_count": 0,
   "metadata": {
    "colab": {},
    "colab_type": "code",
    "id": "InDhDkf9eFBH"
   },
   "outputs": [],
   "source": [
    "def text_process(text):\n",
    "    # 大小写转换\n",
    "    lower = text.lower()\n",
    "    # 标点符号的处理\n",
    "    #string.punctuation中包含英文的标点，我们将其放在待去除变量remove中\n",
    "    #函数需要三个参数，前两个表示字符的映射，我们是不需要的。\n",
    "    remove = str.maketrans('','',string.punctuation) \n",
    "    without_punctuation = lower.translate(remove)\n",
    "    # 分词 \n",
    "    tokens = nltk.word_tokenize(without_punctuation)\n",
    "    # 去除停用词\n",
    "    without_stopwords = [w for w in tokens if not w in stopwords.words('english')]\n",
    "    # 提取词干\n",
    "    s = nltk.stem.SnowballStemmer('english')  #参数是选择的语言\n",
    "    cleaned_text = [s.stem(ws) for ws in without_stopwords]\n",
    "    cleaned_text_len = len(cleaned_text)\n",
    "    cleaned_text = ' '.join(cleaned_text)\n",
    "    return cleaned_text,cleaned_text_len\n",
    "\n",
    "\n",
    "train['clean'],train['sent_len'] = zip(*train['comment_text'].apply(text_process)) "
   ]
  },
  {
   "cell_type": "code",
   "execution_count": 0,
   "metadata": {
    "colab": {
     "base_uri": "https://localhost:8080/",
     "height": 170
    },
    "colab_type": "code",
    "executionInfo": {
     "elapsed": 1212,
     "status": "ok",
     "timestamp": 1583933043285,
     "user": {
      "displayName": "KM yang",
      "photoUrl": "https://lh3.googleusercontent.com/a-/AOh14Gg0AEgDbjAGDaWXlCGl-v2bX3nCoKTmvohCJMAE=s64",
      "userId": "15731520987734215824"
     },
     "user_tz": -480
    },
    "id": "J3N7ZAM5euJJ",
    "outputId": "2904e753-e53e-4caf-90d0-4f995c0b519c"
   },
   "outputs": [
    {
     "data": {
      "text/plain": [
       "count    159571.000000\n",
       "mean         35.105314\n",
       "std          54.282935\n",
       "min           0.000000\n",
       "25%           9.000000\n",
       "50%          19.000000\n",
       "75%          38.000000\n",
       "max        1250.000000\n",
       "Name: sent_len, dtype: float64"
      ]
     },
     "execution_count": 33,
     "metadata": {
      "tags": []
     },
     "output_type": "execute_result"
    }
   ],
   "source": [
    "train['sent_len'].describe()"
   ]
  },
  {
   "cell_type": "code",
   "execution_count": 0,
   "metadata": {
    "colab": {
     "base_uri": "https://localhost:8080/",
     "height": 1000
    },
    "colab_type": "code",
    "executionInfo": {
     "elapsed": 1701,
     "status": "ok",
     "timestamp": 1583933416074,
     "user": {
      "displayName": "KM yang",
      "photoUrl": "https://lh3.googleusercontent.com/a-/AOh14Gg0AEgDbjAGDaWXlCGl-v2bX3nCoKTmvohCJMAE=s64",
      "userId": "15731520987734215824"
     },
     "user_tz": -480
    },
    "id": "3ekzeGcupptj",
    "outputId": "15e2ae43-777a-4f41-c2ae-564eeeac5b0e"
   },
   "outputs": [
    {
     "name": "stdout",
     "output_type": "stream",
     "text": [
      "4     6513\n",
      "5     6239\n",
      "6     5776\n",
      "7     5452\n",
      "3     5393\n",
      "8     5344\n",
      "9     5255\n",
      "10    4998\n",
      "11    4692\n",
      "12    4473\n",
      "13    4173\n",
      "14    3967\n",
      "15    3716\n",
      "16    3577\n",
      "17    3360\n",
      "18    3228\n",
      "19    3050\n",
      "2     3008\n",
      "20    2981\n",
      "21    2792\n",
      "22    2710\n",
      "23    2510\n",
      "24    2402\n",
      "25    2399\n",
      "26    2319\n",
      "27    2104\n",
      "28    1909\n",
      "29    1841\n",
      "30    1744\n",
      "31    1634\n",
      "32    1584\n",
      "33    1513\n",
      "34    1496\n",
      "36    1364\n",
      "35    1340\n",
      "37    1257\n",
      "38    1197\n",
      "39    1127\n",
      "40    1060\n",
      "41    1016\n",
      "42     992\n",
      "43     984\n",
      "44     981\n",
      "45     908\n",
      "46     890\n",
      "49     776\n",
      "48     772\n",
      "47     758\n",
      "52     695\n",
      "50     691\n",
      "Name: sent_len, dtype: int64\n"
     ]
    },
    {
     "data": {
      "text/plain": [
       "<matplotlib.axes._subplots.AxesSubplot at 0x7f4c476976a0>"
      ]
     },
     "execution_count": 43,
     "metadata": {
      "tags": []
     },
     "output_type": "execute_result"
    },
    {
     "data": {
      "image/png": "[encoded data removed]",
      "text/plain": [
       "<Figure size 432x288 with 1 Axes>"
      ]
     },
     "metadata": {
      "tags": []
     },
     "output_type": "display_data"
    }
   ],
   "source": [
    "sent_len_count = train['sent_len'].value_counts()[0:50]\n",
    "print(sent_len_count)\n",
    "sent_len_count.plot(kind='bar')"
   ]
  },
  {
   "cell_type": "code",
   "execution_count": 0,
   "metadata": {
    "colab": {
     "base_uri": "https://localhost:8080/",
     "height": 34
    },
    "colab_type": "code",
    "executionInfo": {
     "elapsed": 1165,
     "status": "ok",
     "timestamp": 1583935054273,
     "user": {
      "displayName": "KM yang",
      "photoUrl": "https://lh3.googleusercontent.com/a-/AOh14Gg0AEgDbjAGDaWXlCGl-v2bX3nCoKTmvohCJMAE=s64",
      "userId": "15731520987734215824"
     },
     "user_tz": -480
    },
    "id": "SjMIru7txaJe",
    "outputId": "317d1e13-f1c0-41af-8588-188ba5b36f0f"
   },
   "outputs": [
    {
     "data": {
      "text/plain": [
       "0.06536902068671625"
      ]
     },
     "execution_count": 44,
     "metadata": {
      "tags": []
     },
     "output_type": "execute_result"
    }
   ],
   "source": [
    "len(train[train[\"sent_len\"]>100])/len(train)"
   ]
  },
  {
   "cell_type": "code",
   "execution_count": 0,
   "metadata": {
    "colab": {},
    "colab_type": "code",
    "id": "QhsrtbXxxxmN"
   },
   "outputs": [],
   "source": [
    "train.to_csv(train_clean_all_path,encoding='utf-8')\n",
    "train[[\"clean\",\"toxic\",\"severe_toxic\",\"obscene\",\"threat\",\"insult\",\"identity_hate\"]].to_csv(train_clean_path,encoding='utf-8')"
   ]
  },
  {
   "cell_type": "code",
   "execution_count": 0,
   "metadata": {
    "colab": {
     "base_uri": "https://localhost:8080/",
     "height": 306
    },
    "colab_type": "code",
    "executionInfo": {
     "elapsed": 4469,
     "status": "ok",
     "timestamp": 1583939721036,
     "user": {
      "displayName": "KM yang",
      "photoUrl": "https://lh3.googleusercontent.com/a-/AOh14Gg0AEgDbjAGDaWXlCGl-v2bX3nCoKTmvohCJMAE=s64",
      "userId": "15731520987734215824"
     },
     "user_tz": -480
    },
    "id": "njV73TDdIX0-",
    "outputId": "d45563ea-c52f-465d-c72c-a4cb0e037791"
   },
   "outputs": [
    {
     "name": "stdout",
     "output_type": "stream",
     "text": [
      "Wed Mar 11 15:15:18 2020       \n",
      "+-----------------------------------------------------------------------------+\n",
      "| NVIDIA-SMI 440.59       Driver Version: 418.67       CUDA Version: 10.1     |\n",
      "|-------------------------------+----------------------+----------------------+\n",
      "| GPU  Name        Persistence-M| Bus-Id        Disp.A | Volatile Uncorr. ECC |\n",
      "| Fan  Temp  Perf  Pwr:Usage/Cap|         Memory-Usage | GPU-Util  Compute M. |\n",
      "|===============================+======================+======================|\n",
      "|   0  Tesla P100-PCIE...  Off  | 00000000:00:04.0 Off |                    0 |\n",
      "| N/A   37C    P0    26W / 250W |      0MiB / 16280MiB |      0%      Default |\n",
      "+-------------------------------+----------------------+----------------------+\n",
      "                                                                               \n",
      "+-----------------------------------------------------------------------------+\n",
      "| Processes:                                                       GPU Memory |\n",
      "|  GPU       PID   Type   Process name                             Usage      |\n",
      "|=============================================================================|\n",
      "|  No running processes found                                                 |\n",
      "+-----------------------------------------------------------------------------+\n"
     ]
    }
   ],
   "source": [
    "!nvidia-smi"
   ]
  }
 ],
 "metadata": {
  "accelerator": "GPU",
  "colab": {
   "authorship_tag": "ABX9TyM8jE0Xcu8svAmbZNBOwUiH",
   "collapsed_sections": [
    "yrlGA3yaXmws",
    "kej36GcjXJIT",
    "7YzVkzvSXGmS",
    "eUrILEroYQrW"
   ],
   "name": "data_analysis.ipynb",
   "provenance": []
  },
  "kernelspec": {
   "display_name": "Python 3",
   "language": "python",
   "name": "python3"
  },
  "language_info": {
   "codemirror_mode": {
    "name": "ipython",
    "version": 3
   },
   "file_extension": ".py",
   "mimetype": "text/x-python",
   "name": "python",
   "nbconvert_exporter": "python",
   "pygments_lexer": "ipython3",
   "version": "3.6.3"
  },
  "toc": {
   "base_numbering": 1,
   "nav_menu": {},
   "number_sections": true,
   "sideBar": true,
   "skip_h1_title": false,
   "title_cell": "Table of Contents",
   "title_sidebar": "Contents",
   "toc_cell": false,
   "toc_position": {},
   "toc_section_display": true,
   "toc_window_display": false
  }
 },
 "nbformat": 4,
 "nbformat_minor": 1
}
